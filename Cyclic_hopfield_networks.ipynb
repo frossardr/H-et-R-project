{
 "cells": [
  {
   "cell_type": "markdown",
   "metadata": {},
   "source": [
    "# Hopfield networks under biological constraints"
   ]
  },
  {
   "cell_type": "markdown",
   "metadata": {},
   "source": [
    "**NX-465 Mini-project MP1, Spring semester 2025**"
   ]
  },
  {
   "cell_type": "markdown",
   "metadata": {},
   "source": [
    "## Introduction\n",
    "The Hopfield network is a well-established model in computational neuroscience that represents the storage of memory items as distinct patterns of neuronal activity within the recurrent connectivity of a neural network.\n",
    "The goal of this project is to investigate variants of Hopfield networks under biological constraints. In particular, we will examine the impact of biological limitations on the connectivity matrix and the firing output of neurons:\n",
    "1. The connectivity matrix plays a central role in the Hopfield model as it is the key component that stores the memory. However, contrary to the dense connectivity matrix derived from the Hebbian rule, the connection of neurons in the brain is known to be sparse. This raises the question: Would the delusion of the connections destroy the storage of patterns?\n",
    "2. The output function also greatly a↵ects the dynamics of the Hopfield network. In biology, neurons emit spikes with non-negligible noise and following complicated synaptic dynamics. This leads us to explore: Would incorporating stochastic firing with an absolute refractory period destroy the storage of patterns?\n",
    "Note: the project is intended to be solved using Python without the need for any specific library (other than the usual numpy and matplotlib).\n",
    "Note 2: some simulations may take up to two minutes to complete.\n"
   ]
  },
  {
   "cell_type": "markdown",
   "metadata": {},
   "source": [
    "## Ex 0. Getting Started: standard Hopfield network\n"
   ]
  },
  {
   "cell_type": "markdown",
   "metadata": {},
   "source": [
    "To get started, we first consider the standard Hopfield model consisting of N fully connected binary neurons with state values $S_i(t) \\in \\{-1, 1\\}$. The P balanced random patterns $p^{\\mu} \\in \\{-1, 1\\}^N$, each containing an equal number of +1s and -1s, are stored in the network by the weight matrix given in the standard Hebbian form:\n",
    "\\begin{equation}\n",
    "\t\\mathbb{w}_{ij} = \\frac{1}{N}\\sum_{\\mu=1}^P p_i^{\\mu} p_j^{\\mu}\n",
    "\\tag{1}\n",
    "\\end{equation}\n",
    "At each time step, the states update according to the rule:\n",
    "\\begin{equation}\n",
    "    S_i(t+1) = \\operatorname{sgn} \\left(\\underbrace{\\sum_{j=1}^{N} w_{ij} \\mathcal{S}_j(t)}_{h_i(t)}\n",
    "\\right)\n",
    "\\tag{2}\n",
    "\\end{equation}\n",
    "where $\\operatorname{sgn}(·)$ is the sign function.\n"
   ]
  },
  {
   "cell_type": "markdown",
   "metadata": {},
   "source": [
    "**0.1**. Write a method that generates P balanced random patterns $p^{\\mu} \\in \\{-1, 1\\}^N$ , each containing an\n",
    "equal number of +1s and -1s."
   ]
  },
  {
   "cell_type": "code",
   "execution_count": null,
   "metadata": {
    "vscode": {
     "languageId": "plaintext"
    }
   },
   "outputs": [],
   "source": []
  },
  {
   "cell_type": "markdown",
   "metadata": {},
   "source": [
    "**0.2**. Write a method that computes the next state $S(t + 1)$ of the network, given the current state\n",
    "$S(t) = (S_1(t), . . . , S_N (t))$ and a set of patterns $p^1, . . . , p^P$ , according to Eqs. 1-2."
   ]
  },
  {
   "cell_type": "code",
   "execution_count": null,
   "metadata": {
    "vscode": {
     "languageId": "plaintext"
    }
   },
   "outputs": [],
   "source": []
  },
  {
   "cell_type": "markdown",
   "metadata": {},
   "source": [
    "**0.3**. Accelerate the computation of the input to each neuron hi(t) (and thereafter the computation of S(t + 1)) by leveraging the P overlap variables mμ(t):"
   ]
  }
 ],
 "metadata": {
  "language_info": {
   "name": "python"
  }
 },
 "nbformat": 4,
 "nbformat_minor": 2
}
