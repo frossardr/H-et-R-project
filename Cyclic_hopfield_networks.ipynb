{
 "cells": [
  {
   "cell_type": "markdown",
   "metadata": {},
   "source": [
    "# Hopfield networks under biological constraints"
   ]
  },
  {
   "cell_type": "markdown",
   "metadata": {},
   "source": [
    "**NX-465 Mini-project MP1, Spring semester 2025**"
   ]
  },
  {
   "cell_type": "markdown",
   "metadata": {},
   "source": [
    "**Introduction**:The Hopfield network is a well-established model in computational neuroscience that represents the storage of memory items as distinct patterns of neuronal activity within the recurrent connectivity of a neural network.\n",
    "The goal of this project is to investigate variants of Hopfield networks under biological constraints. In particular, we will examine the impact of biological limitations on the connectivity matrix and the firing output of neurons:\n",
    "1. The connectivity matrix plays a central role in the Hopfield model as it is the key component that stores the memory. However, contrary to the dense connectivity matrix derived from the Hebbian rule, the connection of neurons in the brain is known to be sparse. This raises the question: Would the delusion of the connections destroy the storage of patterns?\n",
    "2. The output function also greatly a↵ects the dynamics of the Hopfield network. In biology, neurons emit spikes with non-negligible noise and following complicated synaptic dynamics. This leads us to explore: Would incorporating stochastic firing with an absolute refractory period destroy the storage of patterns?\n",
    "Note: the project is intended to be solved using Python without the need for any specific library (other than the usual numpy and matplotlib).\n",
    "Note 2: some simulations may take up to two minutes to complete.\n"
   ]
  },
  {
   "cell_type": "markdown",
   "metadata": {},
   "source": [
    "## Ex 0. Getting Started: standard Hopfield network\n"
   ]
  }
 ],
 "metadata": {
  "language_info": {
   "name": "python"
  }
 },
 "nbformat": 4,
 "nbformat_minor": 2
}
